{
 "cells": [
  {
   "cell_type": "markdown",
   "id": "5ee518e6",
   "metadata": {},
   "source": [
    "# 算平均每轮成功车数"
   ]
  },
  {
   "cell_type": "code",
   "execution_count": 22,
   "id": "792871e2",
   "metadata": {},
   "outputs": [],
   "source": [
    "%matplotlib inline\n",
    "import matplotlib.pyplot as plt\n",
    "import numpy as np\n",
    "import os\n",
    "from utils.options import args_parser\n",
    "from utils.sumo_utils import read_tripInfo, sumo_run\n",
    "from utils.interface_for_FL import generate_FLtable_from_tripInfo\n",
    "from utils.options import args_parser\n",
    "\n",
    "args = args_parser(['--sumo_data_dir','./sumo_data','--no_sumo_run', '--round_duration', '30'])\n",
    "args.round_duration = 6"
   ]
  },
  {
   "cell_type": "code",
   "execution_count": null,
   "id": "ed1cf0a7",
   "metadata": {},
   "outputs": [],
   "source": [
    "args.MU_local_train = args.local_iter * args.mu_local_train\n",
    "args.BETA_local_train = args.local_iter * args.beta_local_train\n",
    "\n",
    "if args.no_sumo_run == False:\n",
    "    os.makedirs(args.sumo_data_dir, exist_ok=True)\n",
    "    sumo_run(args, save_dir=args.sumo_data_dir)\n",
    "car_tripinfo = read_tripInfo(tripInfo_path=os.path.join(args.sumo_data_dir,'tripinfo.xml'))\n",
    "FL_table = generate_FLtable_from_tripInfo(args)\n",
    "\n",
    "car_num_list = [len(v) for k,v in FL_table.items()]\n",
    "L = len(car_num_list)\n",
    "car_num_list = car_num_list[int(0.1*L):int(0.9*L)]\n",
    "MEAN, VAR = np.mean(car_num_list), np.var(car_num_list)\n",
    "print(\"MEAN\", MEAN, \"VAR\", VAR)\n",
    "\n",
    "car_num_dict = {}\n",
    "_cnt = 0\n",
    "_i = 0\n",
    "while _cnt<len(car_num_list):\n",
    "    car_num_dict[_i] = 0\n",
    "    for car_num in car_num_list:\n",
    "        if car_num==_i:\n",
    "            car_num_dict[_i] += 1\n",
    "            _cnt += 1\n",
    "    car_num_dict[_i] /= len(car_num_list)\n",
    "    _i += 1"
   ]
  },
  {
   "cell_type": "code",
   "execution_count": 23,
   "id": "bb8ee266",
   "metadata": {},
   "outputs": [
    {
     "name": "stdout",
     "output_type": "stream",
     "text": [
      "MEAN 1.16275 VAR 1.0912624375\n",
      "analyzation result: 1.0953326147114135\n"
     ]
    }
   ],
   "source": [
    "Lambda = args.Lambda\n",
    "T_round = args.round_duration\n",
    "H = args.local_iter\n",
    "a = args.mu_local_train\n",
    "u = 1/args.beta_local_train\n",
    "Rc = 420\n",
    "v = args.maxSpeed\n",
    "T_stay = Rc/v\n",
    "D = args.delay_download + args.delay_upload\n",
    "\n",
    "tau = np.min([T_round,T_stay])\n",
    "p1 = 1/(tau)*(tau-a*H-D-H/u*(1-np.exp(-u/H*(tau-a*H-D))))\n",
    "p2 = 1-np.exp(-u/H*(tau-a*H-D))\n",
    "\n",
    "E = 2*Lambda*tau*p1 + Lambda*np.abs(T_round-T_stay)*p2\n",
    "print('analyzation result:', E)"
   ]
  },
  {
   "cell_type": "markdown",
   "id": "30006f42",
   "metadata": {},
   "source": [
    "# 画泊松分布"
   ]
  },
  {
   "cell_type": "code",
   "execution_count": 24,
   "id": "ac00b3cd",
   "metadata": {},
   "outputs": [
    {
     "data": {
      "text/plain": [
       "Text(0.5, 0, 'success car num')"
      ]
     },
     "execution_count": 24,
     "metadata": {},
     "output_type": "execute_result"
    },
    {
     "data": {
      "image/png": "[encoded data removed]",
      "text/plain": [
       "<Figure size 432x288 with 1 Axes>"
      ]
     },
     "metadata": {
      "needs_background": "light"
     },
     "output_type": "display_data"
    }
   ],
   "source": [
    "threshold = 0.99995\n",
    "assert threshold>=0 and threshold<1\n",
    "y = []\n",
    "i = 0\n",
    "while sum(y)<threshold:\n",
    "    y.append(E**i/np.math.factorial(i)*np.exp(-E))\n",
    "    i += 1\n",
    "plt.plot(y, linestyle='', marker='*', color='r')\n",
    "plt.plot(car_num_dict.values(), linestyle='', marker='*', color='b')\n",
    "plt.xlabel('success car num')"
   ]
  },
  {
   "cell_type": "markdown",
   "id": "b72b9ddc",
   "metadata": {},
   "source": [
    "# 轮次时长与每轮成功车数的关系"
   ]
  },
  {
   "cell_type": "code",
   "execution_count": 5,
   "id": "b4690f19",
   "metadata": {},
   "outputs": [
    {
     "data": {
      "text/plain": [
       "Text(0, 0.5, 'average of car num per round')"
      ]
     },
     "execution_count": 5,
     "metadata": {},
     "output_type": "execute_result"
    },
    {
     "data": {
      "image/png": "[encoded data removed]",
      "text/plain": [
       "<Figure size 432x288 with 1 Axes>"
      ]
     },
     "metadata": {
      "needs_background": "light"
     },
     "output_type": "display_data"
    }
   ],
   "source": [
    "x = [4.5, 5,6,7,8,10,15,20]\n",
    "y = [0.42921432589536845, 0.7565625, 1.23075, 1.5462368728121354, 1.7605, 2.07375, 2.6221875, 3.12625]\n",
    "plt.figure()\n",
    "plt.plot(x,y, linestyle = '-', marker = '*')\n",
    "plt.xlabel('round_duration')\n",
    "plt.ylabel('average of car num per round')"
   ]
  },
  {
   "cell_type": "code",
   "execution_count": null,
   "id": "cc12eef7",
   "metadata": {},
   "outputs": [],
   "source": []
  }
 ],
 "metadata": {
  "kernelspec": {
   "display_name": "Python 3 (ipykernel)",
   "language": "python",
   "name": "python3"
  },
  "language_info": {
   "codemirror_mode": {
    "name": "ipython",
    "version": 3
   },
   "file_extension": ".py",
   "mimetype": "text/x-python",
   "name": "python",
   "nbconvert_exporter": "python",
   "pygments_lexer": "ipython3",
   "version": "3.8.12"
  }
 },
 "nbformat": 4,
 "nbformat_minor": 5
}
